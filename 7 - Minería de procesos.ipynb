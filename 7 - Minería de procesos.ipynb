{
 "cells": [
  {
   "cell_type": "markdown",
   "id": "22762f85-bda5-446c-970f-a5caa912011c",
   "metadata": {},
   "source": [
    "**Este notebook está pensado para ejecutarse cargando solamente uno de los datasets. O bien el que contiene los comentarios cientificos o bien el que contiene los pseudocientificos, y con el que se haya decidido cargar, se hace el análisis completo."
   ]
  },
  {
   "cell_type": "markdown",
   "id": "43a0951f-98f1-4817-9904-c5e0e29d34af",
   "metadata": {},
   "source": [
    "**Carga datos búsquedas pseudocientificas**"
   ]
  },
  {
   "cell_type": "code",
   "execution_count": 1,
   "id": "9d55cccf-37fd-416b-ab7f-348b5134920c",
   "metadata": {},
   "outputs": [
    {
     "data": {
      "text/plain": [
       "comment_id                              object\n",
       "comment                                 object\n",
       "timestamp                  datetime64[ns, UTC]\n",
       "is_response                               bool\n",
       "response_of                             object\n",
       "case_id                                 object\n",
       "conversation_id                         object\n",
       "language                                object\n",
       "emotion                                 object\n",
       "Tematica del comentario                 object\n",
       "dtype: object"
      ]
     },
     "execution_count": 1,
     "metadata": {},
     "output_type": "execute_result"
    }
   ],
   "source": [
    "import pandas as pd\n",
    "df1 = pd.read_csv(\"Evaluated final datasets/Evaluated_pseudo_1.csv\")\n",
    "df2 = pd.read_csv(\"Evaluated final datasets/Evaluated_pseudo_2.csv\")\n",
    "\n",
    "# Combinar los DataFrames\n",
    "combined_df = pd.concat([df1, df2], ignore_index=True)\n",
    "\n",
    "# Convertir la columna 'timestamp' a formato datetime\n",
    "combined_df['timestamp'] = pd.to_datetime(combined_df['timestamp'])\n",
    "\n",
    "# Obtener el nombre de la última columna\n",
    "ultima_columna = combined_df.columns[-1]\n",
    "\n",
    "# Renombrar la última columna\n",
    "combined_df = combined_df.rename(columns={ultima_columna: 'Tematica del comentario'})\n",
    "combined_df.dtypes"
   ]
  },
  {
   "cell_type": "code",
   "execution_count": 2,
   "id": "9ddc428b-3443-42f4-b189-f8953570854d",
   "metadata": {},
   "outputs": [
    {
     "name": "stdout",
     "output_type": "stream",
     "text": [
      "Fecha más antigua: 2011-06-22 05:36:38+00:00\n",
      "Fecha más reciente: 2025-05-06 00:43:54+00:00\n"
     ]
    }
   ],
   "source": [
    "print(\"Fecha más antigua:\", combined_df['timestamp'].min())\n",
    "print(\"Fecha más reciente:\", combined_df['timestamp'].max())"
   ]
  },
  {
   "cell_type": "markdown",
   "id": "3ff8c128-f608-4b3c-97a5-953fcb8a7a35",
   "metadata": {},
   "source": [
    "**Carga datos búsquedas científicas**"
   ]
  },
  {
   "cell_type": "code",
   "execution_count": null,
   "id": "46e2f8b0-4861-43dc-adb3-9326593418ca",
   "metadata": {},
   "outputs": [],
   "source": [
    "import pandas as pd\n",
    "combined_df = pd.read_csv(\"Evaluated final datasets/Evaluated_scientific.csv\")\n",
    "combined_df = combined_df.iloc[:, 1:]\n",
    "combined_df['timestamp'] = pd.to_datetime(combined_df['timestamp'])\n",
    "combined_df.dtypes"
   ]
  },
  {
   "cell_type": "code",
   "execution_count": null,
   "id": "0a6d23fb-8204-4880-a9e7-1da635dcd567",
   "metadata": {},
   "outputs": [],
   "source": [
    "print(\"Fecha más antigua:\", combined_df['timestamp'].min())\n",
    "print(\"Fecha más reciente:\", combined_df['timestamp'].max())"
   ]
  },
  {
   "cell_type": "markdown",
   "id": "2832c559-7bf9-45ae-8e53-b1703ff3a70a",
   "metadata": {},
   "source": [
    "**Analisis del dataset escogido**"
   ]
  },
  {
   "cell_type": "code",
   "execution_count": null,
   "id": "2ee7443d-0015-4071-b9f0-f8dab1f5af18",
   "metadata": {},
   "outputs": [],
   "source": [
    "combined_df['language'].value_counts()"
   ]
  },
  {
   "cell_type": "code",
   "execution_count": null,
   "id": "9415f8aa-eea7-47e2-9b66-1151a31460a9",
   "metadata": {},
   "outputs": [],
   "source": [
    "combined_df['Tematica del comentario'].value_counts()"
   ]
  },
  {
   "cell_type": "code",
   "execution_count": null,
   "id": "08a3200e-9456-4b58-9353-0a6583c67502",
   "metadata": {},
   "outputs": [],
   "source": [
    "combined_df['emotion'].value_counts()"
   ]
  },
  {
   "cell_type": "markdown",
   "id": "ee20d8ae-e3cc-4062-884a-1c3a9f3168d5",
   "metadata": {},
   "source": [
    "**Red de interacciones**"
   ]
  },
  {
   "cell_type": "code",
   "execution_count": 3,
   "id": "9b59ab01-a2be-4e59-884c-66278beaabc6",
   "metadata": {},
   "outputs": [
    {
     "name": "stdout",
     "output_type": "stream",
     "text": [
      "activity\n",
      "Agradecimiento - Positivo                  6930\n",
      "Petición de opinión - Positivo             4921\n",
      "Intercambio de información - Positivo      3562\n",
      "Petición de opinión - Negativo             2357\n",
      "Apoyo emocional - Positivo                 2003\n",
      "Expresión de sentimientos - Positivo       1539\n",
      "Intercambio de información - Negativo      1524\n",
      "Petición de opinión - Neutral              1072\n",
      "Inclasificable - Positivo                   719\n",
      "Intercambio de información - Neutral        700\n",
      "Agradecimiento - Negativo                   596\n",
      "Inclasificable - Negativo                   467\n",
      "Expresión de sentimientos - Negativo        440\n",
      "Opinión - Positivo                          436\n",
      "Comparación - Positivo                      388\n",
      "Opinión - Negativo                          330\n",
      "Anécdota - Negativo                         306\n",
      "Comparación - Negativo                      268\n",
      "Tratamiento médico - Negativo               231\n",
      "Tratamiento médico - Positivo               228\n",
      "Apoyo emocional - Negativo                  217\n",
      "Anécdota - Positivo                         213\n",
      "Agradecimiento - Neutral                    209\n",
      "Comparación - Neutral                       193\n",
      "Opinión - Neutral                           175\n",
      "Inclasificable - Neutral                    173\n",
      "Tratamiento pseudocientífico - Negativo     172\n",
      "Insulto - Negativo                          167\n",
      "Petición de consejo - Positivo              160\n",
      "Expresión de sentimientos - Neutral         140\n",
      "Tratamiento médico - Neutral                 88\n",
      "Dando un consejo - Positivo                  86\n",
      "Tratamiento pseudocientífico - Positivo      85\n",
      "Anticipación de un evento - Positivo         77\n",
      "Cumplido - Positivo                          74\n",
      "Petición de consejo - Negativo               73\n",
      "Anécdota - Neutral                           64\n",
      "Especulación - Positivo                      61\n",
      "Primera impresión - Positivo                 53\n",
      "Tratamiento pseudocientífico - Neutral       47\n",
      "Dando un consejo - Negativo                  45\n",
      "Crítica - Negativo                           44\n",
      "Apoyo emocional - Neutral                    43\n",
      "Insulto - Positivo                           41\n",
      "Anticipación de un evento - Negativo         41\n",
      "Petición de consejo - Neutral                35\n",
      "Cumplido - Negativo                          29\n",
      "Planes - Negativo                            20\n",
      "Crítica - Positivo                           17\n",
      "Planes - Positivo                            16\n",
      "Especulación - Negativo                      15\n",
      "Crítica - Neutral                            13\n",
      "Primera impresión - Negativo                 13\n",
      "Dando un consejo - Neutral                   13\n",
      "Deseos - Positivo                            10\n",
      "Insulto - Neutral                            10\n",
      "Broma - Positivo                             10\n",
      "Anticipación de un evento - Neutral           9\n",
      "Especulación - Neutral                        9\n",
      "Spam - Negativo                               7\n",
      "Deseos - Negativo                             7\n",
      "Planes - Neutral                              6\n",
      "Primera impresión - Neutral                   5\n",
      "Broma - Neutral                               4\n",
      "Cumplido - Neutral                            4\n",
      "Tributo - Negativo                            3\n",
      "Spam - Neutral                                3\n",
      "Tributo - Positivo                            2\n",
      "Broma - Negativo                              2\n",
      "Spam - Positivo                               2\n",
      "Deseos - Neutral                              1\n",
      "Tributo - Neutral                             1\n",
      "Enhorabuena - Positivo                        1\n",
      "Name: count, dtype: int64\n"
     ]
    }
   ],
   "source": [
    "pd.options.display.max_rows = None\n",
    "combined_df['activity'] = combined_df['Tematica del comentario'] + \" - \" + combined_df['emotion'].astype(str) \n",
    "print(combined_df['activity'].value_counts())"
   ]
  },
  {
   "cell_type": "markdown",
   "id": "4b00605d-f66b-4860-a7f5-640306dcc5de",
   "metadata": {},
   "source": [
    "**Minería de procesos**"
   ]
  },
  {
   "cell_type": "code",
   "execution_count": 4,
   "id": "5418043c-d0d1-46bb-bab8-ca61beff51db",
   "metadata": {},
   "outputs": [
    {
     "data": {
      "text/html": [
       "<div>\n",
       "<style scoped>\n",
       "    .dataframe tbody tr th:only-of-type {\n",
       "        vertical-align: middle;\n",
       "    }\n",
       "\n",
       "    .dataframe tbody tr th {\n",
       "        vertical-align: top;\n",
       "    }\n",
       "\n",
       "    .dataframe thead th {\n",
       "        text-align: right;\n",
       "    }\n",
       "</style>\n",
       "<table border=\"1\" class=\"dataframe\">\n",
       "  <thead>\n",
       "    <tr style=\"text-align: right;\">\n",
       "      <th></th>\n",
       "      <th>comment_id</th>\n",
       "      <th>comment</th>\n",
       "      <th>time:timestamp</th>\n",
       "      <th>is_response</th>\n",
       "      <th>response_of</th>\n",
       "      <th>case_id</th>\n",
       "      <th>case:concept:name</th>\n",
       "      <th>language</th>\n",
       "      <th>emotion</th>\n",
       "      <th>Tematica del comentario</th>\n",
       "      <th>concept:name</th>\n",
       "    </tr>\n",
       "  </thead>\n",
       "  <tbody>\n",
       "    <tr>\n",
       "      <th>0</th>\n",
       "      <td>UgzK88VxqOahF-KXy_F4AaABAg</td>\n",
       "      <td>Please never ever get a needle into your intes...</td>\n",
       "      <td>2024-11-05 04:33:52+00:00</td>\n",
       "      <td>False</td>\n",
       "      <td>NaN</td>\n",
       "      <td>yyRwM0QqZCs</td>\n",
       "      <td>UgzK88VxqOahF-KXy_F4AaABAg</td>\n",
       "      <td>en</td>\n",
       "      <td>Negativo</td>\n",
       "      <td>Petición de consejo</td>\n",
       "      <td>Petición de consejo - Negativo</td>\n",
       "    </tr>\n",
       "    <tr>\n",
       "      <th>1</th>\n",
       "      <td>UgzK88VxqOahF-KXy_F4AaABAg.AAS-K363r0VACMFCjvCJmj</td>\n",
       "      <td>They ain&amp;#39;t poking that shit into their int...</td>\n",
       "      <td>2024-12-22 16:00:01+00:00</td>\n",
       "      <td>True</td>\n",
       "      <td>UgzK88VxqOahF-KXy_F4AaABAg</td>\n",
       "      <td>yyRwM0QqZCs</td>\n",
       "      <td>UgzK88VxqOahF-KXy_F4AaABAg</td>\n",
       "      <td>en</td>\n",
       "      <td>Negativo</td>\n",
       "      <td>Petición de opinión</td>\n",
       "      <td>Petición de opinión - Negativo</td>\n",
       "    </tr>\n",
       "    <tr>\n",
       "      <th>2</th>\n",
       "      <td>UgzeXJPQ5cfLPoIN6Hx4AaABAg</td>\n",
       "      <td>5:19 top left….. ?</td>\n",
       "      <td>2024-09-30 08:08:04+00:00</td>\n",
       "      <td>False</td>\n",
       "      <td>NaN</td>\n",
       "      <td>yyRwM0QqZCs</td>\n",
       "      <td>UgzeXJPQ5cfLPoIN6Hx4AaABAg</td>\n",
       "      <td>en</td>\n",
       "      <td>Positivo</td>\n",
       "      <td>Petición de opinión</td>\n",
       "      <td>Petición de opinión - Positivo</td>\n",
       "    </tr>\n",
       "    <tr>\n",
       "      <th>3</th>\n",
       "      <td>UgzeXJPQ5cfLPoIN6Hx4AaABAg.A9-gDRxdN26AAh2_miD7_y</td>\n",
       "      <td>Armpit hair</td>\n",
       "      <td>2024-11-11 10:10:13+00:00</td>\n",
       "      <td>True</td>\n",
       "      <td>UgzeXJPQ5cfLPoIN6Hx4AaABAg</td>\n",
       "      <td>yyRwM0QqZCs</td>\n",
       "      <td>UgzeXJPQ5cfLPoIN6Hx4AaABAg</td>\n",
       "      <td>en</td>\n",
       "      <td>Negativo</td>\n",
       "      <td>Expresión de sentimientos</td>\n",
       "      <td>Expresión de sentimientos - Negativo</td>\n",
       "    </tr>\n",
       "    <tr>\n",
       "      <th>4</th>\n",
       "      <td>UgyrkE3Wihi_ZBDQGgV4AaABAg</td>\n",
       "      <td>No matter what this is a placebo to me and not...</td>\n",
       "      <td>2024-09-05 22:20:42+00:00</td>\n",
       "      <td>False</td>\n",
       "      <td>NaN</td>\n",
       "      <td>yyRwM0QqZCs</td>\n",
       "      <td>UgyrkE3Wihi_ZBDQGgV4AaABAg</td>\n",
       "      <td>en</td>\n",
       "      <td>Negativo</td>\n",
       "      <td>Inclasificable</td>\n",
       "      <td>Inclasificable - Negativo</td>\n",
       "    </tr>\n",
       "  </tbody>\n",
       "</table>\n",
       "</div>"
      ],
      "text/plain": [
       "                                          comment_id  \\\n",
       "0                         UgzK88VxqOahF-KXy_F4AaABAg   \n",
       "1  UgzK88VxqOahF-KXy_F4AaABAg.AAS-K363r0VACMFCjvCJmj   \n",
       "2                         UgzeXJPQ5cfLPoIN6Hx4AaABAg   \n",
       "3  UgzeXJPQ5cfLPoIN6Hx4AaABAg.A9-gDRxdN26AAh2_miD7_y   \n",
       "4                         UgyrkE3Wihi_ZBDQGgV4AaABAg   \n",
       "\n",
       "                                             comment  \\\n",
       "0  Please never ever get a needle into your intes...   \n",
       "1  They ain&#39;t poking that shit into their int...   \n",
       "2                                 5:19 top left….. ?   \n",
       "3                                        Armpit hair   \n",
       "4  No matter what this is a placebo to me and not...   \n",
       "\n",
       "             time:timestamp  is_response                 response_of  \\\n",
       "0 2024-11-05 04:33:52+00:00        False                         NaN   \n",
       "1 2024-12-22 16:00:01+00:00         True  UgzK88VxqOahF-KXy_F4AaABAg   \n",
       "2 2024-09-30 08:08:04+00:00        False                         NaN   \n",
       "3 2024-11-11 10:10:13+00:00         True  UgzeXJPQ5cfLPoIN6Hx4AaABAg   \n",
       "4 2024-09-05 22:20:42+00:00        False                         NaN   \n",
       "\n",
       "       case_id           case:concept:name language   emotion  \\\n",
       "0  yyRwM0QqZCs  UgzK88VxqOahF-KXy_F4AaABAg       en  Negativo   \n",
       "1  yyRwM0QqZCs  UgzK88VxqOahF-KXy_F4AaABAg       en  Negativo   \n",
       "2  yyRwM0QqZCs  UgzeXJPQ5cfLPoIN6Hx4AaABAg       en  Positivo   \n",
       "3  yyRwM0QqZCs  UgzeXJPQ5cfLPoIN6Hx4AaABAg       en  Negativo   \n",
       "4  yyRwM0QqZCs  UgyrkE3Wihi_ZBDQGgV4AaABAg       en  Negativo   \n",
       "\n",
       "     Tematica del comentario                          concept:name  \n",
       "0        Petición de consejo        Petición de consejo - Negativo  \n",
       "1        Petición de opinión        Petición de opinión - Negativo  \n",
       "2        Petición de opinión        Petición de opinión - Positivo  \n",
       "3  Expresión de sentimientos  Expresión de sentimientos - Negativo  \n",
       "4             Inclasificable             Inclasificable - Negativo  "
      ]
     },
     "execution_count": 4,
     "metadata": {},
     "output_type": "execute_result"
    }
   ],
   "source": [
    "from pm4py.objects.log.util import dataframe_utils\n",
    "from pm4py.visualization.petri_net import visualizer as pn_visualizer\n",
    "from pm4py.objects.conversion.log import converter as log_converter\n",
    "from pm4py.algo.discovery.alpha import algorithm as alpha_miner\n",
    "# Paso 1: Renombrar columnas para pm4py\n",
    "event_log = combined_df.rename(columns={\n",
    "    'conversation_id': 'case:concept:name',\n",
    "    'timestamp': 'time:timestamp',\n",
    "    'activity': 'concept:name',\n",
    "\n",
    "})\n",
    "\n",
    "# Paso 2: Convertir a formato de evento\n",
    "log = log_converter.apply(event_log)\n",
    "\n",
    "event_log.head(n=5)"
   ]
  },
  {
   "cell_type": "code",
   "execution_count": 5,
   "id": "bb0a5fdd-aed3-4e21-b4c3-0d14241cee3d",
   "metadata": {},
   "outputs": [
    {
     "data": {
      "text/plain": [
       "{'Petición de consejo - Negativo': 40,\n",
       " 'Petición de opinión - Positivo': 1422,\n",
       " 'Inclasificable - Negativo': 146,\n",
       " 'Comparación - Positivo': 104,\n",
       " 'Intercambio de información - Negativo': 439,\n",
       " 'Petición de opinión - Neutral': 368,\n",
       " 'Petición de opinión - Negativo': 724,\n",
       " 'Agradecimiento - Positivo': 2948,\n",
       " 'Intercambio de información - Positivo': 1138,\n",
       " 'Inclasificable - Neutral': 51,\n",
       " 'Agradecimiento - Negativo': 235,\n",
       " 'Tratamiento médico - Positivo': 112,\n",
       " 'Tratamiento médico - Negativo': 118,\n",
       " 'Apoyo emocional - Neutral': 24,\n",
       " 'Expresión de sentimientos - Negativo': 212,\n",
       " 'Comparación - Negativo': 75,\n",
       " 'Tratamiento pseudocientífico - Negativo': 59,\n",
       " 'Anécdota - Negativo': 142,\n",
       " 'Intercambio de información - Neutral': 187,\n",
       " 'Tratamiento médico - Neutral': 42,\n",
       " 'Expresión de sentimientos - Positivo': 704,\n",
       " 'Spam - Neutral': 1,\n",
       " 'Opinión - Negativo': 111,\n",
       " 'Anécdota - Positivo': 124,\n",
       " 'Anticipación de un evento - Positivo': 34,\n",
       " 'Cumplido - Positivo': 35,\n",
       " 'Anécdota - Neutral': 24,\n",
       " 'Inclasificable - Positivo': 376,\n",
       " 'Apoyo emocional - Positivo': 531,\n",
       " 'Opinión - Neutral': 47,\n",
       " 'Expresión de sentimientos - Neutral': 51,\n",
       " 'Anticipación de un evento - Negativo': 20,\n",
       " 'Primera impresión - Positivo': 30,\n",
       " 'Insulto - Negativo': 61,\n",
       " 'Apoyo emocional - Negativo': 39,\n",
       " 'Agradecimiento - Neutral': 73,\n",
       " 'Cumplido - Negativo': 16,\n",
       " 'Dando un consejo - Neutral': 5,\n",
       " 'Deseos - Negativo': 3,\n",
       " 'Dando un consejo - Positivo': 36,\n",
       " 'Dando un consejo - Negativo': 18,\n",
       " 'Tratamiento pseudocientífico - Neutral': 11,\n",
       " 'Opinión - Positivo': 121,\n",
       " 'Comparación - Neutral': 37,\n",
       " 'Planes - Positivo': 10,\n",
       " 'Insulto - Positivo': 21,\n",
       " 'Petición de consejo - Positivo': 51,\n",
       " 'Especulación - Neutral': 4,\n",
       " 'Broma - Positivo': 6,\n",
       " 'Especulación - Positivo': 42,\n",
       " 'Petición de consejo - Neutral': 17,\n",
       " 'Crítica - Positivo': 7,\n",
       " 'Crítica - Negativo': 15,\n",
       " 'Tratamiento pseudocientífico - Positivo': 19,\n",
       " 'Crítica - Neutral': 7,\n",
       " 'Primera impresión - Neutral': 2,\n",
       " 'Insulto - Neutral': 6,\n",
       " 'Tributo - Positivo': 2,\n",
       " 'Broma - Neutral': 3,\n",
       " 'Especulación - Negativo': 7,\n",
       " 'Deseos - Positivo': 6,\n",
       " 'Primera impresión - Negativo': 4,\n",
       " 'Broma - Negativo': 2,\n",
       " 'Planes - Negativo': 7,\n",
       " 'Anticipación de un evento - Neutral': 3,\n",
       " 'Planes - Neutral': 2,\n",
       " 'Tributo - Negativo': 1}"
      ]
     },
     "execution_count": 5,
     "metadata": {},
     "output_type": "execute_result"
    }
   ],
   "source": [
    "import pm4py\n",
    "pm4py.stats.get_start_activities(log)"
   ]
  },
  {
   "cell_type": "code",
   "execution_count": 6,
   "id": "55fb1cef-89df-495f-936e-9a7fe63b9dd7",
   "metadata": {},
   "outputs": [
    {
     "data": {
      "text/plain": [
       "{'Petición de opinión - Negativo': 569,\n",
       " 'Expresión de sentimientos - Negativo': 105,\n",
       " 'Petición de opinión - Positivo': 1989,\n",
       " 'Intercambio de información - Positivo': 1459,\n",
       " 'Inclasificable - Negativo': 130,\n",
       " 'Intercambio de información - Negativo': 481,\n",
       " 'Comparación - Negativo': 80,\n",
       " 'Tratamiento pseudocientífico - Negativo': 40,\n",
       " 'Expresión de sentimientos - Neutral': 46,\n",
       " 'Intercambio de información - Neutral': 258,\n",
       " 'Insulto - Negativo': 43,\n",
       " 'Inclasificable - Neutral': 58,\n",
       " 'Anécdota - Positivo': 40,\n",
       " 'Opinión - Positivo': 125,\n",
       " 'Tratamiento pseudocientífico - Positivo': 33,\n",
       " 'Petición de opinión - Neutral': 324,\n",
       " 'Opinión - Neutral': 54,\n",
       " 'Tratamiento médico - Positivo': 44,\n",
       " 'Comparación - Positivo': 113,\n",
       " 'Expresión de sentimientos - Positivo': 476,\n",
       " 'Opinión - Negativo': 80,\n",
       " 'Agradecimiento - Neutral': 82,\n",
       " 'Apoyo emocional - Positivo': 980,\n",
       " 'Spam - Negativo': 3,\n",
       " 'Agradecimiento - Positivo': 2668,\n",
       " 'Tratamiento médico - Negativo': 47,\n",
       " 'Petición de consejo - Positivo': 62,\n",
       " 'Anécdota - Negativo': 66,\n",
       " 'Comparación - Neutral': 90,\n",
       " 'Agradecimiento - Negativo': 221,\n",
       " 'Cumplido - Positivo': 21,\n",
       " 'Especulación - Negativo': 5,\n",
       " 'Insulto - Positivo': 8,\n",
       " 'Dando un consejo - Positivo': 36,\n",
       " 'Inclasificable - Positivo': 160,\n",
       " 'Insulto - Neutral': 3,\n",
       " 'Tratamiento médico - Neutral': 20,\n",
       " 'Primera impresión - Neutral': 1,\n",
       " 'Crítica - Negativo': 14,\n",
       " 'Planes - Negativo': 7,\n",
       " 'Cumplido - Neutral': 3,\n",
       " 'Dando un consejo - Neutral': 5,\n",
       " 'Primera impresión - Positivo': 11,\n",
       " 'Anécdota - Neutral': 18,\n",
       " 'Especulación - Positivo': 8,\n",
       " 'Deseos - Positivo': 2,\n",
       " 'Anticipación de un evento - Positivo': 28,\n",
       " 'Spam - Neutral': 2,\n",
       " 'Dando un consejo - Negativo': 10,\n",
       " 'Anticipación de un evento - Negativo': 9,\n",
       " 'Apoyo emocional - Negativo': 122,\n",
       " 'Apoyo emocional - Neutral': 12,\n",
       " 'Crítica - Positivo': 5,\n",
       " 'Tributo - Negativo': 1,\n",
       " 'Primera impresión - Negativo': 3,\n",
       " 'Crítica - Neutral': 2,\n",
       " 'Cumplido - Negativo': 8,\n",
       " 'Petición de consejo - Neutral': 9,\n",
       " 'Petición de consejo - Negativo': 12,\n",
       " 'Especulación - Neutral': 2,\n",
       " 'Deseos - Negativo': 3,\n",
       " 'Planes - Positivo': 2,\n",
       " 'Tratamiento pseudocientífico - Neutral': 15,\n",
       " 'Tributo - Neutral': 1,\n",
       " 'Broma - Positivo': 1,\n",
       " 'Planes - Neutral': 1,\n",
       " 'Enhorabuena - Positivo': 1,\n",
       " 'Broma - Neutral': 1}"
      ]
     },
     "execution_count": 6,
     "metadata": {},
     "output_type": "execute_result"
    }
   ],
   "source": [
    "pm4py.stats.get_end_activities(log)"
   ]
  },
  {
   "cell_type": "code",
   "execution_count": 27,
   "id": "3c3cc51d-b078-472f-a3bc-5cc9af1d0004",
   "metadata": {},
   "outputs": [
    {
     "data": {
      "text/plain": [
       "3229"
      ]
     },
     "execution_count": 27,
     "metadata": {},
     "output_type": "execute_result"
    }
   ],
   "source": [
    "variantes=pm4py.get_variants_as_tuples(log)\n",
    "len(variantes)"
   ]
  },
  {
   "cell_type": "code",
   "execution_count": 28,
   "id": "e6dfc14c-02ba-4138-8eb2-5dad7671ceec",
   "metadata": {},
   "outputs": [
    {
     "data": {
      "text/plain": [
       "11338"
      ]
     },
     "execution_count": 28,
     "metadata": {},
     "output_type": "execute_result"
    }
   ],
   "source": [
    "len(event_log['case:concept:name'].unique())"
   ]
  },
  {
   "cell_type": "code",
   "execution_count": 7,
   "id": "2faa2cd1-5ccd-4187-a3a8-416335d602f4",
   "metadata": {},
   "outputs": [
    {
     "data": {
      "text/html": [
       "<div>\n",
       "<style scoped>\n",
       "    .dataframe tbody tr th:only-of-type {\n",
       "        vertical-align: middle;\n",
       "    }\n",
       "\n",
       "    .dataframe tbody tr th {\n",
       "        vertical-align: top;\n",
       "    }\n",
       "\n",
       "    .dataframe thead th {\n",
       "        text-align: right;\n",
       "    }\n",
       "</style>\n",
       "<table border=\"1\" class=\"dataframe\">\n",
       "  <thead>\n",
       "    <tr style=\"text-align: right;\">\n",
       "      <th></th>\n",
       "      <th>Variantes</th>\n",
       "      <th>Repeticiones</th>\n",
       "    </tr>\n",
       "  </thead>\n",
       "  <tbody>\n",
       "    <tr>\n",
       "      <th>137</th>\n",
       "      <td>(Agradecimiento - Positivo, Agradecimiento - P...</td>\n",
       "      <td>948</td>\n",
       "    </tr>\n",
       "    <tr>\n",
       "      <th>136</th>\n",
       "      <td>(Agradecimiento - Positivo, Petición de opinió...</td>\n",
       "      <td>442</td>\n",
       "    </tr>\n",
       "    <tr>\n",
       "      <th>79</th>\n",
       "      <td>(Agradecimiento - Positivo, Intercambio de inf...</td>\n",
       "      <td>336</td>\n",
       "    </tr>\n",
       "    <tr>\n",
       "      <th>213</th>\n",
       "      <td>(Agradecimiento - Positivo, Apoyo emocional - ...</td>\n",
       "      <td>323</td>\n",
       "    </tr>\n",
       "    <tr>\n",
       "      <th>86</th>\n",
       "      <td>(Intercambio de información - Positivo, Agrade...</td>\n",
       "      <td>272</td>\n",
       "    </tr>\n",
       "    <tr>\n",
       "      <th>88</th>\n",
       "      <td>(Petición de opinión - Positivo, Agradecimient...</td>\n",
       "      <td>264</td>\n",
       "    </tr>\n",
       "    <tr>\n",
       "      <th>128</th>\n",
       "      <td>(Petición de opinión - Positivo, Petición de o...</td>\n",
       "      <td>254</td>\n",
       "    </tr>\n",
       "    <tr>\n",
       "      <th>130</th>\n",
       "      <td>(Expresión de sentimientos - Positivo, Agradec...</td>\n",
       "      <td>178</td>\n",
       "    </tr>\n",
       "    <tr>\n",
       "      <th>265</th>\n",
       "      <td>(Intercambio de información - Positivo, Petici...</td>\n",
       "      <td>141</td>\n",
       "    </tr>\n",
       "    <tr>\n",
       "      <th>164</th>\n",
       "      <td>(Agradecimiento - Positivo, Expresión de senti...</td>\n",
       "      <td>138</td>\n",
       "    </tr>\n",
       "    <tr>\n",
       "      <th>103</th>\n",
       "      <td>(Apoyo emocional - Positivo, Agradecimiento - ...</td>\n",
       "      <td>129</td>\n",
       "    </tr>\n",
       "    <tr>\n",
       "      <th>877</th>\n",
       "      <td>(Petición de opinión - Positivo, Apoyo emocion...</td>\n",
       "      <td>122</td>\n",
       "    </tr>\n",
       "    <tr>\n",
       "      <th>125</th>\n",
       "      <td>(Intercambio de información - Positivo, Interc...</td>\n",
       "      <td>122</td>\n",
       "    </tr>\n",
       "    <tr>\n",
       "      <th>205</th>\n",
       "      <td>(Expresión de sentimientos - Positivo, Petició...</td>\n",
       "      <td>119</td>\n",
       "    </tr>\n",
       "    <tr>\n",
       "      <th>62</th>\n",
       "      <td>(Petición de opinión - Positivo, Intercambio d...</td>\n",
       "      <td>115</td>\n",
       "    </tr>\n",
       "    <tr>\n",
       "      <th>368</th>\n",
       "      <td>(Apoyo emocional - Positivo, Petición de opini...</td>\n",
       "      <td>102</td>\n",
       "    </tr>\n",
       "    <tr>\n",
       "      <th>13</th>\n",
       "      <td>(Petición de opinión - Negativo, Petición de o...</td>\n",
       "      <td>100</td>\n",
       "    </tr>\n",
       "    <tr>\n",
       "      <th>1562</th>\n",
       "      <td>(Apoyo emocional - Positivo, Apoyo emocional -...</td>\n",
       "      <td>96</td>\n",
       "    </tr>\n",
       "    <tr>\n",
       "      <th>606</th>\n",
       "      <td>(Expresión de sentimientos - Positivo, Apoyo e...</td>\n",
       "      <td>93</td>\n",
       "    </tr>\n",
       "    <tr>\n",
       "      <th>96</th>\n",
       "      <td>(Inclasificable - Positivo, Agradecimiento - P...</td>\n",
       "      <td>69</td>\n",
       "    </tr>\n",
       "  </tbody>\n",
       "</table>\n",
       "</div>"
      ],
      "text/plain": [
       "                                              Variantes  Repeticiones\n",
       "137   (Agradecimiento - Positivo, Agradecimiento - P...           948\n",
       "136   (Agradecimiento - Positivo, Petición de opinió...           442\n",
       "79    (Agradecimiento - Positivo, Intercambio de inf...           336\n",
       "213   (Agradecimiento - Positivo, Apoyo emocional - ...           323\n",
       "86    (Intercambio de información - Positivo, Agrade...           272\n",
       "88    (Petición de opinión - Positivo, Agradecimient...           264\n",
       "128   (Petición de opinión - Positivo, Petición de o...           254\n",
       "130   (Expresión de sentimientos - Positivo, Agradec...           178\n",
       "265   (Intercambio de información - Positivo, Petici...           141\n",
       "164   (Agradecimiento - Positivo, Expresión de senti...           138\n",
       "103   (Apoyo emocional - Positivo, Agradecimiento - ...           129\n",
       "877   (Petición de opinión - Positivo, Apoyo emocion...           122\n",
       "125   (Intercambio de información - Positivo, Interc...           122\n",
       "205   (Expresión de sentimientos - Positivo, Petició...           119\n",
       "62    (Petición de opinión - Positivo, Intercambio d...           115\n",
       "368   (Apoyo emocional - Positivo, Petición de opini...           102\n",
       "13    (Petición de opinión - Negativo, Petición de o...           100\n",
       "1562  (Apoyo emocional - Positivo, Apoyo emocional -...            96\n",
       "606   (Expresión de sentimientos - Positivo, Apoyo e...            93\n",
       "96    (Inclasificable - Positivo, Agradecimiento - P...            69"
      ]
     },
     "execution_count": 7,
     "metadata": {},
     "output_type": "execute_result"
    }
   ],
   "source": [
    "import pandas as pd\n",
    "\n",
    "# Obtener variantes como diccionario\n",
    "variantes = pm4py.get_variants_as_tuples(log)\n",
    "\n",
    "# Convertir a DataFrame y contar cuántas veces aparece cada variante\n",
    "variantes_df = pd.DataFrame({'Variantes': list(variantes.keys()), 'Repeticiones': [len(v) for v in variantes.values()]})\n",
    "\n",
    "# Mostrar solo las 15 variantes más frecuentes\n",
    "variantes_comunes = variantes_df.sort_values(by='Repeticiones', ascending=False).head(20)\n",
    "variantes_comunes"
   ]
  },
  {
   "cell_type": "code",
   "execution_count": 26,
   "id": "b3e56b0a-0afa-4040-a27e-60c52485e469",
   "metadata": {},
   "outputs": [
    {
     "data": {
      "text/plain": [
       "4363"
      ]
     },
     "execution_count": 26,
     "metadata": {},
     "output_type": "execute_result"
    }
   ],
   "source": [
    "variantes_comunes['Repeticiones'].sum()"
   ]
  },
  {
   "cell_type": "code",
   "execution_count": 32,
   "id": "6bdac5ab-7d19-47cd-b782-00875b75ef7f",
   "metadata": {},
   "outputs": [
    {
     "data": {
      "image/png": "[encoded data removed]",
      "text/plain": [
       "<IPython.core.display.Image object>"
      ]
     },
     "metadata": {},
     "output_type": "display_data"
    }
   ],
   "source": [
    "variantes_15 = pm4py.filter_variants_top_k(log, 15)\n",
    "map = pm4py.discover_heuristics_net(variantes_15)\n",
    "pm4py.view_heuristics_net(map)"
   ]
  },
  {
   "cell_type": "markdown",
   "id": "b5576cda-0944-4650-bbfc-6da8a8ef7c16",
   "metadata": {},
   "source": [
    "**El output con el que decidí quedarme es el anterior, lo que viene a partir de aqui son simples pruebas que finalmente decidí no mantener debido a que no daba resultados satisfactorios**"
   ]
  },
  {
   "cell_type": "code",
   "execution_count": null,
   "id": "65598455-19f6-42cd-8b17-70cba38b52ec",
   "metadata": {},
   "outputs": [],
   "source": [
    "import pandas as pd\n",
    "from pm4py.objects.log.util import dataframe_utils\n",
    "from pm4py.visualization.petri_net import visualizer as pn_visualizer\n",
    "from pm4py.objects.conversion.log import converter as log_converter\n",
    "from pm4py.algo.discovery.alpha import algorithm as alpha_miner\n",
    "\n",
    "# Paso 1: Renombrar columnas para pm4py\n",
    "event_log = combined_df.rename(columns={\n",
    "    'conversation_id': 'case:concept:name',\n",
    "    'timestamp': 'time:timestamp',\n",
    "    'activity': 'concept:name',\n",
    "})\n",
    "\n",
    "# Paso 2: Filtrar actividades poco frecuentes\n",
    "frecuencia_minima = 30  # Ajusta según tu necesidad\n",
    "actividad_frecuencias = event_log['concept:name'].value_counts()\n",
    "actividades_validas = actividad_frecuencias[actividad_frecuencias >= frecuencia_minima].index\n",
    "event_log_filtrado = event_log[event_log['concept:name'].isin(actividades_validas)]\n",
    "\n",
    "# Paso 3: Convertir a formato de evento\n",
    "log_filtrado = log_converter.apply(event_log_filtrado)\n",
    "\n",
    "# Paso 4: Minería de procesos (Alpha Miner)\n",
    "net, initial_marking, final_marking = alpha_miner.apply(log_filtrado)\n",
    "\n",
    "# Visualizar el modelo\n",
    "gviz = pn_visualizer.apply(net, initial_marking, final_marking)\n",
    "pn_visualizer.view(gviz)\n",
    "\n"
   ]
  },
  {
   "cell_type": "code",
   "execution_count": null,
   "id": "736b60fe-1bde-4f39-a9b4-335c91f81fa6",
   "metadata": {},
   "outputs": [],
   "source": [
    "from pm4py.objects.log.util import dataframe_utils\n",
    "from pm4py.visualization.petri_net import visualizer as pn_visualizer\n",
    "from pm4py.objects.conversion.log import converter as log_converter\n",
    "from pm4py.algo.discovery.heuristics import algorithm as heuristic_miner\n",
    "\n",
    "# Paso 1: Renombrar columnas para pm4py\n",
    "event_log = combined_df.rename(columns={\n",
    "    'conversation_id': 'case:concept:name',\n",
    "    'timestamp': 'time:timestamp',\n",
    "    'Tematica del comentario': 'concept:name',\n",
    "})\n",
    "\n",
    "# Paso 2: Convertir a formato de evento\n",
    "log = log_converter.apply(event_log)\n",
    "\n",
    "# Paso 3: Minería de procesos (Heuristic Miner)\n",
    "net, initial_marking, final_marking = heuristic_miner.apply(log)\n",
    "\n",
    "# Visualizar el modelo\n",
    "gviz = pn_visualizer.apply(net, initial_marking, final_marking)\n",
    "pn_visualizer.view(gviz)\n"
   ]
  },
  {
   "cell_type": "code",
   "execution_count": null,
   "id": "8709bc02-a833-41a6-bc2e-9b2f09c07021",
   "metadata": {},
   "outputs": [],
   "source": [
    "from pm4py.visualization.petri_net import visualizer as pn_visualizer\n",
    "from pm4py.algo.filtering.log.attributes import attributes_filter\n",
    "from pm4py.algo.discovery.heuristics import algorithm as heuristic_miner\n",
    "from pm4py.statistics.traces.generic.log import case_statistics\n",
    "\n",
    "# Paso 1: Obtener las actividades más frecuentes\n",
    "activities = list(set(event_log[\"concept:name\"]))  # Extrae todas las actividades únicas\n",
    "\n",
    "# Paso 2: Filtrar eventos con actividad poco frecuente\n",
    "filtered_log = attributes_filter.apply_events(log, values=activities, parameters={\n",
    "    \"decreasingFactor\": 0.2  # Ajusta este umbral según lo que quieras visualizar\n",
    "})\n"
   ]
  },
  {
   "cell_type": "code",
   "execution_count": null,
   "id": "32bb7d93-7049-4aac-8234-e697d7a349c9",
   "metadata": {},
   "outputs": [],
   "source": [
    "# Paso 3: Filtrar conexiones en la red de Petri según su frecuencia mínima\n",
    "df_freq = case_statistics.get_variant_statistics(filtered_log)\n",
    "min_freq = int(sum([x[\"count\"] for x in df_freq]) * 0.2)  # 20% más frecuente\n",
    "\n",
    "filtered_net, filtered_initial_marking, filtered_final_marking = heuristic_miner.apply(filtered_log, parameters={\"min_occurrences\": min_freq})\n",
    "\n",
    "# Paso 4: Visualizar el modelo filtrado\n",
    "gviz_filtered = pn_visualizer.apply(filtered_net, filtered_initial_marking, filtered_final_marking)\n",
    "pn_visualizer.view(gviz_filtered)"
   ]
  },
  {
   "cell_type": "code",
   "execution_count": null,
   "id": "2daf48f6-72d8-43c9-862c-ceaceb166f6d",
   "metadata": {},
   "outputs": [],
   "source": [
    "from pm4py.objects.log.util import dataframe_utils\n",
    "from pm4py.visualization.petri_net import visualizer as pn_visualizer\n",
    "from pm4py.objects.conversion.log import converter as log_converter\n",
    "from pm4py.algo.discovery.inductive import algorithm as inductive_miner\n",
    "from pm4py.objects.conversion.process_tree import converter as pt_converter\n",
    "\n",
    "# Paso 1: Renombrar columnas para pm4py\n",
    "event_log = combined_df.rename(columns={\n",
    "    'conversation_id': 'case:concept:name',\n",
    "    'timestamp': 'time:timestamp',\n",
    "    'activity': 'concept:name',\n",
    "})\n",
    "\n",
    "# Paso 2: Convertir a formato de evento\n",
    "log = log_converter.apply(event_log)\n",
    "\n",
    "# Paso 3: Aplicar Inductive Miner para obtener un árbol de proceso\n",
    "process_tree = inductive_miner.apply(log)\n",
    "\n",
    "# Paso 4: Convertir el árbol de proceso a una red de Petri\n",
    "net, initial_marking, final_marking = pt_converter.apply(process_tree)\n",
    "\n",
    "# Visualizar el modelo generado\n",
    "gviz = pn_visualizer.apply(net, initial_marking, final_marking)\n",
    "pn_visualizer.view(gviz)\n"
   ]
  },
  {
   "cell_type": "code",
   "execution_count": null,
   "id": "8d3e78ae-1417-4904-8872-b9da00de083d",
   "metadata": {},
   "outputs": [],
   "source": [
    "from pm4py.algo.filtering.log.attributes import attributes_filter\n",
    "from pm4py.visualization.petri_net import visualizer as pn_visualizer\n",
    "from pm4py.statistics.traces.generic.log import case_statistics\n",
    "\n",
    "# Paso 1: Obtener estadísticas de frecuencia del log\n",
    "df_freq = case_statistics.get_variant_statistics(log)\n",
    "\n",
    "# Paso 2: Definir umbral de frecuencia mínima (ajustable)\n",
    "min_freq = int(sum([x[\"count\"] for x in df_freq]) * 0.0000000000000000001)  # 10% de los eventos más comunes\n",
    "\n",
    "# Paso 3: Aplicar filtro sobre el log original\n",
    "filtered_log = attributes_filter.apply_events(log, values=[x[\"variant\"] for x in df_freq if x[\"count\"] >= min_freq])\n",
    "\n",
    "# Paso 4: Aplicar Inductive Miner nuevamente sobre el log filtrado\n",
    "process_tree = inductive_miner.apply(filtered_log)\n",
    "\n",
    "# Paso 5: Convertir a red de Petri\n",
    "filtered_net, filtered_initial_marking, filtered_final_marking = pt_converter.apply(process_tree)\n",
    "\n",
    "# Paso 6: Visualizar el modelo filtrado\n",
    "gviz_filtered = pn_visualizer.apply(filtered_net, filtered_initial_marking, filtered_final_marking)\n",
    "pn_visualizer.view(gviz_filtered)\n"
   ]
  },
  {
   "cell_type": "code",
   "execution_count": null,
   "id": "3fa693a9-2a3b-4cd3-b53f-ebcb679dd6cc",
   "metadata": {},
   "outputs": [],
   "source": []
  }
 ],
 "metadata": {
  "kernelspec": {
   "display_name": "Python 3 (ipykernel)",
   "language": "python",
   "name": "python3"
  },
  "language_info": {
   "codemirror_mode": {
    "name": "ipython",
    "version": 3
   },
   "file_extension": ".py",
   "mimetype": "text/x-python",
   "name": "python",
   "nbconvert_exporter": "python",
   "pygments_lexer": "ipython3",
   "version": "3.11.7"
  }
 },
 "nbformat": 4,
 "nbformat_minor": 5
}
