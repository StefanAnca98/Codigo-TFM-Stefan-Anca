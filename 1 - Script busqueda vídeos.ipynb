{
 "cells": [
  {
   "cell_type": "markdown",
   "id": "9acbb198-7cb0-4ed9-a958-d410d83325eb",
   "metadata": {},
   "source": [
    "**Configuración de credenciales API YouTube**"
   ]
  },
  {
   "cell_type": "code",
   "execution_count": 1,
   "id": "7c8bf476-8fa6-43ae-9261-ae430566e2fe",
   "metadata": {},
   "outputs": [],
   "source": [
    "import time\n",
    "from googleapiclient.discovery import build\n",
    "import googleapiclient.discovery\n",
    "api_key = ''\n",
    "youtube = build('youtube', 'v3', developerKey=api_key)\n",
    "api_service_name = \"youtube\"\n",
    "api_version = \"v3\""
   ]
  },
  {
   "cell_type": "markdown",
   "id": "4cf7fc54-607b-42ef-bd6e-fb64f77355ed",
   "metadata": {},
   "source": [
    "**Configuración de scispaCy**"
   ]
  },
  {
   "cell_type": "code",
   "execution_count": null,
   "id": "92256cc8-cbe3-4d15-917f-74fddf7efdf5",
   "metadata": {},
   "outputs": [],
   "source": [
    "import scispacy\n",
    "import spacy\n",
    "import en_core_sci_sm\n",
    "from spacy import displacy\n",
    "import pandas as pd"
   ]
  },
  {
   "cell_type": "markdown",
   "id": "76efc214-7aee-4bcc-8a3a-1c3ac935ff6d",
   "metadata": {},
   "source": [
    "**Función para buscar vídeos decidiendo el numero de vídeos que se quieren buscar**"
   ]
  },
  {
   "cell_type": "code",
   "execution_count": 3,
   "id": "8eb1c750-b1db-448b-9a9f-54f64154712d",
   "metadata": {},
   "outputs": [],
   "source": [
    "youtube = build(api_service_name, api_version, developerKey=api_key)\n",
    "\n",
    "def buscar_videos(query, max_results):\n",
    "    videos = []\n",
    "    next_page_token = None\n",
    "\n",
    "    while len(videos) < max_results:\n",
    "        request = youtube.search().list(\n",
    "            part=\"id\",\n",
    "            maxResults=min(max_results - len(videos), 50),  # Limitar a 50 por solicitud\n",
    "            q=query,\n",
    "            videoCaption=\"closedCaption\",\n",
    "            type=\"video\",\n",
    "            order=\"viewCount\",\n",
    "            relevanceLanguage=\"es\",\n",
    "            pageToken=next_page_token\n",
    "        )\n",
    "        response = request.execute()\n",
    "\n",
    "        for item in response.get(\"items\", []):\n",
    "            videos.append(item)\n",
    "\n",
    "        next_page_token = response.get(\"nextPageToken\")\n",
    "        if not next_page_token:\n",
    "            break\n",
    "\n",
    "    return videos"
   ]
  },
  {
   "cell_type": "markdown",
   "id": "032e3ea5-21c9-4140-a2de-098757d5e01f",
   "metadata": {},
   "source": [
    "**LISTAS DE TÉRMINOS DE BÚSQUEDA**\n",
    "\n",
    "- **Pseudocientíficos:** Terapia energética, Reiki, Naturopatía, Acupuntura, Magnetoterapia, Flores de Bach.\n",
    "\n",
    "- **Científicos:** Tratamiento cáncer, Procedimiento endóscopico, Terapia Cognitivo Conductual, Neurorrehabilitación, Fisioterapia deportiva."
   ]
  },
  {
   "cell_type": "markdown",
   "id": "2223b516-cd9b-478c-8f73-8282f321b03c",
   "metadata": {},
   "source": [
    "**CREACIÓN DE VARIABLES QUE SE USARÁN PARA HACER LA BÚSQUEDA**"
   ]
  },
  {
   "cell_type": "code",
   "execution_count": 4,
   "id": "ae78048a-9e46-409d-9bb4-fae6de986b81",
   "metadata": {},
   "outputs": [],
   "source": [
    "# Pseudocientíficos\n",
    "pseudo_1 = \"Terapia energética\"\n",
    "pseudo_2 = \"Reiki\"\n",
    "pseudo_3 = \"Naturopatía\"\n",
    "pseudo_4 = \"Acupuntura\"\n",
    "pseudo_5 = \"Magnetoterapia\"\n",
    "pseudo_6 = \"Flores de Bach\"\n",
    "\n",
    "# Científicos\n",
    "scientific_1 = \"Tratamiento cáncer\"\n",
    "scientific_2 = \"Procedimiento endóscopico\"\n",
    "scientific_3 = \"Terapia Cognitivo Conductual\"\n",
    "scientific_4 = \"Neurorrehabilitación\"\n",
    "scientific_5 = \"Fisioterapia deportiva\"\n",
    "scientific_6 = \"Rehabilitación cardíaca\""
   ]
  },
  {
   "cell_type": "markdown",
   "id": "68d27351-dc33-4e49-9e5e-8f61d22ce207",
   "metadata": {},
   "source": [
    "**BÚSQUEDA CON UN TÉRMINO ESPECÍFICO ESCOGIDO**"
   ]
  },
  {
   "cell_type": "markdown",
   "id": "a12aedb2-ff77-451d-8df5-fccaaaf1a4a5",
   "metadata": {},
   "source": [
    "Es necesario ejecutar el script con cada uno de los términos. Se obtendrá un archivo csv para cada búsqueda. Para analizarlos es necesario combinarlos."
   ]
  },
  {
   "cell_type": "code",
   "execution_count": 5,
   "id": "a546af71-79e4-4f24-9280-3fe63b944f4f",
   "metadata": {},
   "outputs": [
    {
     "data": {
      "text/plain": [
       "['YtgoxfG7uX8',\n",
       " '_9ElpXUjlR4',\n",
       " 'Y0ccTBkTyfg',\n",
       " 'utkdcx7Nwvk',\n",
       " 'iVw3xIEAOx8',\n",
       " 'VLPjNVBggTo',\n",
       " '57cGclIpSBA',\n",
       " 'VyVoEKUsIo0',\n",
       " 'AqKQjHJ8HN8',\n",
       " 'nmnAf0zDLGE',\n",
       " '1eM1FSAS4CE',\n",
       " '_7-oAh4G0Ro',\n",
       " 'HrYB128P94M',\n",
       " 'r5S_T9ITiNw',\n",
       " 'WsPt_cSX6dI',\n",
       " 'HiywqhjAX_Q',\n",
       " 'aU3LVtLLhww',\n",
       " '9akRmwI2X5U',\n",
       " 'BXUqpgHz_so',\n",
       " 'r-gEdBHB_V8',\n",
       " 'dEF3eTAx_DE',\n",
       " 'eDbc_JcIy-0',\n",
       " 'itRE0LKft60',\n",
       " '6uFk9oeF1uM',\n",
       " 'SwbvH2bIWbo',\n",
       " 'xSkSgsbD72Q',\n",
       " 'AAQxkPPB5U0',\n",
       " '7pnSOFEwwRk',\n",
       " 'Wg9itsXbUFE',\n",
       " 'D78luEXTrdI',\n",
       " 'cTlZMI1SWow',\n",
       " 'RAIufsQbN6I',\n",
       " 'y2cpKLmagWw',\n",
       " 'xapW1RS5JtA',\n",
       " 'xbF81mVcmUU',\n",
       " 'sinyV_4vHig',\n",
       " '32f-ewLsxx8',\n",
       " 'r-ITuNPzxVU',\n",
       " 'QL5qEwNz3bE']"
      ]
     },
     "execution_count": 5,
     "metadata": {},
     "output_type": "execute_result"
    }
   ],
   "source": [
    "search_term = scientific_5\n",
    "videos_iteracion =  buscar_videos(search_term, 100)\n",
    "videos_iteracion = [item[\"id\"][\"videoId\"] for item in videos_iteracion if \"videoId\" in item[\"id\"]]\n",
    "video_ids = videos_iteracion\n",
    "video_ids"
   ]
  },
  {
   "cell_type": "code",
   "execution_count": null,
   "id": "1aa2818a-474f-4df0-bc30-ddd5705c644b",
   "metadata": {},
   "outputs": [],
   "source": [
    "len(video_ids)"
   ]
  },
  {
   "cell_type": "markdown",
   "id": "faa7de76-8021-4b37-a8d1-7c1234922f6a",
   "metadata": {},
   "source": [
    "**EXTRACCIÓN DE TÉRMINOS CIENTIFICOS ENCONTRADOS EN LA INFORMACIÓN DE LOS VÍDEOS**"
   ]
  },
  {
   "cell_type": "markdown",
   "id": "31a7d445-7421-43e9-9d7f-fec1f32ad106",
   "metadata": {},
   "source": [
    "**Configuración de un LLM con el que traducir a inglés el contenido y categorizarlo posteriormente**"
   ]
  },
  {
   "cell_type": "code",
   "execution_count": 6,
   "id": "e5d1022e-8987-471c-86d3-654dc37203cc",
   "metadata": {},
   "outputs": [],
   "source": [
    "import requests\n",
    "import pathlib\n",
    "import textwrap\n",
    "import google.generativeai as genai\n",
    "from IPython.display import display\n",
    "from IPython.display import Markdown\n",
    "\n",
    "def to_markdown(text):\n",
    "  text = text.replace('•', '  *')\n",
    "  return Markdown(textwrap.indent(text, '> ', predicate=lambda _: True))\n",
    "\n",
    "import os\n",
    "GOOGLE_API_KEY=os.getenv('')\n",
    "genai.configure(api_key=GOOGLE_API_KEY)\n",
    "model = genai.GenerativeModel('gemini-2.0-flash-lite')\n",
    "genai.configure(api_key='')"
   ]
  },
  {
   "cell_type": "markdown",
   "id": "11bd9a00-942e-4c22-bf4d-85a078d0f90c",
   "metadata": {},
   "source": [
    "**Creación de un diccionario con la información de cada vídeo**"
   ]
  },
  {
   "cell_type": "code",
   "execution_count": 7,
   "id": "27b95ae3-02ce-48ea-92c9-1090281b7906",
   "metadata": {},
   "outputs": [],
   "source": [
    "# Extracting title, description and tags of each video\n",
    "basic_info_dict = {}\n",
    "for video_id in video_ids:\n",
    "    try:\n",
    "        request = youtube.videos().list(\n",
    "            part=\"snippet\",\n",
    "            id=video_id\n",
    "        )\n",
    "        response = request.execute()\n",
    "\n",
    "        if response and \"items\" in response and len(response[\"items\"]) > 0:\n",
    "            snippet = response[\"items\"][0][\"snippet\"]\n",
    "            title = snippet.get(\"title\")\n",
    "            description = snippet.get(\"description\")\n",
    "            tags = snippet.get(\"tags\") if \"tags\" in snippet else []\n",
    "\n",
    "            video_info = {\n",
    "                \"title\": title,\n",
    "                \"description\": description,\n",
    "                \"tags\": tags\n",
    "            }\n",
    "            basic_info_dict[video_id] = video_info\n",
    "    except: # If there is any problem with the video, we pass to the next one\n",
    "        pass"
   ]
  },
  {
   "cell_type": "markdown",
   "id": "ef6fc7e3-315e-411c-92f6-ea57446e9ab4",
   "metadata": {},
   "source": [
    "**Configuración de un modelo para identificar el idioma de la información de cada vídeo**"
   ]
  },
  {
   "cell_type": "code",
   "execution_count": 8,
   "id": "f77beecf-fe52-4e3c-918c-bc136675511c",
   "metadata": {},
   "outputs": [
    {
     "name": "stderr",
     "output_type": "stream",
     "text": [
      "Device set to use cpu\n"
     ]
    }
   ],
   "source": [
    "# Crear el pipeline paradetectar el idioma\n",
    "from transformers import pipeline\n",
    "\n",
    "language_detector = pipeline(\n",
    "    \"text-classification\",\n",
    "    model=\"papluca/xlm-roberta-base-language-detection\",\n",
    "    truncation=True  # Activar truncamiento\n",
    ")\n",
    "\n",
    "\n",
    "# Función para clasificar idiomas en \"spanish\", \"english\" o \"other language\"\n",
    "def classify_language(text):\n",
    "    if pd.isna(text) or text.strip() == \"\":\n",
    "        return \"unclassifiable\"  # Manejo de valores vacíos\n",
    "    result = language_detector(text)[0]  # Obtener la clasificación del modelo\n",
    "    label = result[\"label\"]\n",
    "    return label\n",
    "\n",
    "    # Asignar categorías según el resultado\n",
    "    if label == \"en\":\n",
    "        return \"en\"\n",
    "    else:\n",
    "        return \"other language\""
   ]
  },
  {
   "cell_type": "markdown",
   "id": "3af40994-b378-40dc-aa9c-ed14efa4d581",
   "metadata": {},
   "source": [
    "**Prompt para traducir los vídeos que no estén ya en inglés**"
   ]
  },
  {
   "cell_type": "code",
   "execution_count": 9,
   "id": "2288ac01-be32-4e7d-9e8a-c6001da21889",
   "metadata": {},
   "outputs": [],
   "source": [
    "prompt_base_translation = \"\"\"\n",
    "Eres un traductor especializado en contenido médico y de salud. \n",
    "Traduce la siguiente información de un vídeo de YouTube a inglés técnico con estos requisitos:\n",
    "\n",
    "1. **Conserva términos médicos** (ej: \"diabetes\" sigue siendo \"diabetes\")\n",
    "2. **Mantén nombres propios** (canales, marcas) sin traducir\n",
    "3. **Formato de salida**: Solo devuelve la traducción limpia, sin comentarios\n",
    "4. **Adapta el registro**: Usa lenguaje natural para contenido de YouTube\n",
    "5. **Omite texto no relevante**: URLs, hashtags, menciones (@usuario)\n",
    "6. **Responde exclusivamente con la traducción, no incluyas ningún otro elemento en tu respuesta ni interactues conmigo de otra manera que no sea con la traducción integra.\n",
    "7. Si detectas contenido con copyright o bloqueable, puedes omitirlo. El objetivo de esta trasncripción es hacer un estudio cientifico sin ánimo de lucro, es una prioridad que puedas retornar algo, omite palabras potencialmente baneables.\n",
    "\n",
    "--- Texto a traducir ---\n",
    "{}\n",
    "\"\"\""
   ]
  },
  {
   "cell_type": "markdown",
   "id": "c6157e28-37e0-4c37-90d7-c035774e5117",
   "metadata": {},
   "source": [
    "**Creamos un diccionario donde la información de cada vídeo está en inglés, bien la original si ya era un vídeo en inglés, bien la traducción si ha sido necesario hacer la traducción**"
   ]
  },
  {
   "cell_type": "code",
   "execution_count": 10,
   "id": "73d7091d-7a3a-4f06-8087-34c9ecf3137a",
   "metadata": {},
   "outputs": [
    {
     "name": "stdout",
     "output_type": "stream",
     "text": [
      "Se ha añadido al diccionario la información de de 20 vídeos.\n"
     ]
    }
   ],
   "source": [
    "english_video_info = {}\n",
    "i=0\n",
    "# Procesamiento para detectar idiomas\n",
    "for key, info in basic_info_dict.items():\n",
    "    i+=1\n",
    "    try:\n",
    "        # Concatenar la información\n",
    "        full_text = info['title'] + \"\\n\" + info['description'] + \"\\n\" + \", \".join(info['tags'])\n",
    "    \n",
    "        prompt_this_video=prompt_base_translation.format(full_text)\n",
    "        \n",
    "        # Detectar idioma\n",
    "        language = classify_language(full_text)\n",
    "        \n",
    "        if language == \"en\":\n",
    "            english_video_info[key] = full_text\n",
    "        else:\n",
    "            response = model.generate_content(prompt_this_video)\n",
    "            english_video_info[key] = response.text\n",
    "    except Exception as e:\n",
    "        print(f\"🚨 Error procesando video {key}: {str(e)}\")\n",
    "        english_video_info[key] = clean_text if 'clean_text' in locals() else \"Error: No se pudo procesar\"\n",
    "    time.sleep(2) # Pequeña pausa de 1 segundo para evitar superar el limite de consultas\n",
    "    if i % 20 == 0:\n",
    "        print(f\"Se ha añadido al diccionario la información de de {i} vídeos.\")"
   ]
  },
  {
   "cell_type": "code",
   "execution_count": 11,
   "id": "c1a9f238-6caa-4f5f-8f5b-eca0110111e2",
   "metadata": {},
   "outputs": [
    {
     "data": {
      "text/plain": [
       "39"
      ]
     },
     "execution_count": 11,
     "metadata": {},
     "output_type": "execute_result"
    }
   ],
   "source": [
    "len(english_video_info.items())"
   ]
  },
  {
   "cell_type": "markdown",
   "id": "17574054-2b23-42c3-92f9-ecfa2d40c56d",
   "metadata": {},
   "source": [
    "**Extracción de los términos médicos y creación de un nuevo diccionario**"
   ]
  },
  {
   "cell_type": "code",
   "execution_count": 12,
   "id": "817d2668-3a35-4a3c-9cce-1e0a74b3febd",
   "metadata": {},
   "outputs": [
    {
     "name": "stderr",
     "output_type": "stream",
     "text": [
      "C:\\Users\\Stefan\\anaconda3\\Lib\\site-packages\\spacy\\util.py:910: UserWarning: [W095] Model 'en_ner_bc5cdr_md' (0.5.1) was trained with spaCy v3.4.1 and may not be 100% compatible with the current version (3.8.5). If you see errors or degraded performance, download a newer compatible model or retrain your custom model with the current spaCy version. For more details and available updates, run: python -m spacy validate\n",
      "  warnings.warn(warn_msg)\n"
     ]
    },
    {
     "name": "stdout",
     "output_type": "stream",
     "text": [
      "DataFrame generado con 39 videos procesados\n"
     ]
    },
    {
     "data": {
      "text/html": [
       "<div>\n",
       "<style scoped>\n",
       "    .dataframe tbody tr th:only-of-type {\n",
       "        vertical-align: middle;\n",
       "    }\n",
       "\n",
       "    .dataframe tbody tr th {\n",
       "        vertical-align: top;\n",
       "    }\n",
       "\n",
       "    .dataframe thead th {\n",
       "        text-align: right;\n",
       "    }\n",
       "</style>\n",
       "<table border=\"1\" class=\"dataframe\">\n",
       "  <thead>\n",
       "    <tr style=\"text-align: right;\">\n",
       "      <th></th>\n",
       "      <th>BC5CDR_Terms</th>\n",
       "      <th>BC5CDR_Count</th>\n",
       "    </tr>\n",
       "  </thead>\n",
       "  <tbody>\n",
       "    <tr>\n",
       "      <th>YtgoxfG7uX8</th>\n",
       "      <td>[]</td>\n",
       "      <td>0</td>\n",
       "    </tr>\n",
       "    <tr>\n",
       "      <th>_9ElpXUjlR4</th>\n",
       "      <td>[]</td>\n",
       "      <td>0</td>\n",
       "    </tr>\n",
       "    <tr>\n",
       "      <th>Y0ccTBkTyfg</th>\n",
       "      <td>[pain, shock, bruxism, sciatica]</td>\n",
       "      <td>4</td>\n",
       "    </tr>\n",
       "    <tr>\n",
       "      <th>utkdcx7Nwvk</th>\n",
       "      <td>[injuries]</td>\n",
       "      <td>1</td>\n",
       "    </tr>\n",
       "    <tr>\n",
       "      <th>iVw3xIEAOx8</th>\n",
       "      <td>[fracture]</td>\n",
       "      <td>1</td>\n",
       "    </tr>\n",
       "    <tr>\n",
       "      <th>VLPjNVBggTo</th>\n",
       "      <td>[pain]</td>\n",
       "      <td>1</td>\n",
       "    </tr>\n",
       "    <tr>\n",
       "      <th>57cGclIpSBA</th>\n",
       "      <td>[]</td>\n",
       "      <td>0</td>\n",
       "    </tr>\n",
       "    <tr>\n",
       "      <th>VyVoEKUsIo0</th>\n",
       "      <td>[]</td>\n",
       "      <td>0</td>\n",
       "    </tr>\n",
       "    <tr>\n",
       "      <th>AqKQjHJ8HN8</th>\n",
       "      <td>[]</td>\n",
       "      <td>0</td>\n",
       "    </tr>\n",
       "    <tr>\n",
       "      <th>nmnAf0zDLGE</th>\n",
       "      <td>[equine, mobility difficulties]</td>\n",
       "      <td>2</td>\n",
       "    </tr>\n",
       "  </tbody>\n",
       "</table>\n",
       "</div>"
      ],
      "text/plain": [
       "                                 BC5CDR_Terms  BC5CDR_Count\n",
       "YtgoxfG7uX8                                []             0\n",
       "_9ElpXUjlR4                                []             0\n",
       "Y0ccTBkTyfg  [pain, shock, bruxism, sciatica]             4\n",
       "utkdcx7Nwvk                        [injuries]             1\n",
       "iVw3xIEAOx8                        [fracture]             1\n",
       "VLPjNVBggTo                            [pain]             1\n",
       "57cGclIpSBA                                []             0\n",
       "VyVoEKUsIo0                                []             0\n",
       "AqKQjHJ8HN8                                []             0\n",
       "nmnAf0zDLGE   [equine, mobility difficulties]             2"
      ]
     },
     "execution_count": 12,
     "metadata": {},
     "output_type": "execute_result"
    }
   ],
   "source": [
    "import scispacy\n",
    "import spacy\n",
    "import en_ner_bc5cdr_md\n",
    "from spacy import displacy\n",
    "import pandas as pd\n",
    "from spacy.lang.en.stop_words import STOP_WORDS\n",
    "\n",
    "# 1. Cargar los modelos médicos\n",
    "nlp_bc5cdr = spacy.load(\"en_ner_bc5cdr_md\")\n",
    "\n",
    "# 2. Diccionario para almacenar todos los resultados\n",
    "results_dict = {}\n",
    "\n",
    "# 3. Procesar cada video\n",
    "for video_id, translated_text in english_video_info.items():\n",
    "    # Procesar con ambos modelos\n",
    "    doc_bc5cdr = nlp_bc5cdr(translated_text)\n",
    "    \n",
    "    # Extraer términos médicos (con filtrado)\n",
    "    terms_bc5cdr = {ent.text for ent in doc_bc5cdr.ents \n",
    "                   if ent.text.lower() not in STOP_WORDS and len(ent.text) > 2}\n",
    "    \n",
    "    \n",
    "    # Almacenar todos los datos estructurados\n",
    "    results_dict[video_id] = {\n",
    "        'BC5CDR_Terms': list(terms_bc5cdr),\n",
    "        'BC5CDR_Count': len(terms_bc5cdr)\n",
    "    }\n",
    "\n",
    "# 4. Crear el DataFrame final\n",
    "results_df = pd.DataFrame.from_dict(results_dict, orient='index')\n",
    "\n",
    "# 5. Reordenar columnas según lo solicitado\n",
    "results_df = results_df[[\n",
    "    'BC5CDR_Terms',\n",
    "    'BC5CDR_Count'\n",
    "]]\n",
    "\n",
    "# Mostrar el resultado\n",
    "print(f\"DataFrame generado con {len(results_df)} videos procesados\")\n",
    "results_df.head(n=10)"
   ]
  },
  {
   "cell_type": "markdown",
   "id": "8193f68b-5cc9-46d2-8fe1-6c611857a714",
   "metadata": {},
   "source": [
    "**Añadiendo columna indicando término de búsqueda usado**"
   ]
  },
  {
   "cell_type": "code",
   "execution_count": null,
   "id": "fe503462-ec98-4cb6-94da-ce4fc4c31a16",
   "metadata": {},
   "outputs": [],
   "source": [
    "results_df['Search_Term'] = search_term\n",
    "print(results_df['BC5CDR_Count'].std())\n",
    "print(results_df['BC5CDR_Count'].mean())"
   ]
  },
  {
   "cell_type": "markdown",
   "id": "1290a558-e949-4d70-905a-a5f4367e1637",
   "metadata": {},
   "source": [
    "**CLASIFICAMOS LOS VÍDEOS POR TEMÁTICA**"
   ]
  },
  {
   "cell_type": "markdown",
   "id": "a1416351-99d4-4140-aba4-78b445f7ca14",
   "metadata": {},
   "source": [
    "**Creación del prompt**"
   ]
  },
  {
   "cell_type": "code",
   "execution_count": null,
   "id": "506f4a1c-0909-43cd-9670-dff3d82b45b1",
   "metadata": {},
   "outputs": [],
   "source": [
    "# Prompt base con el que pasarle la info a la API de google gemini\n",
    "prompt_base = \"\"\"\n",
    "A continuación recibirás la información básica de un vídeo de youtube que deberás usar para clasificar el vídeo en una de las siguientes categorías:\n",
    "\n",
    "Científico: El vídeo presenta información basada en evidencia empírica, métodos científicos y consenso científico.\n",
    "Pseudocientífico: El vídeo presenta información que se disfraza de ciencia, pero carece de evidencia empírica, métodos científicos rigurosos o consenso científico.\n",
    "Irrelevante: El contenido del vídeo no está relacionado con ciencia o pseudociencia, o es difícil de clasificar debido a su ambigüedad o falta de claridad. Si la información provista es muy breve y genérica, clasifícalo como irrelevante.\n",
    "\n",
    "Devuelve únicamente la etiqueta de la categoría. Escribe exclusivamente la palabra, no quiero que haya nada más tras ella. Ni siquiera un salto de linea o un punto.\n",
    "\n",
    "A continuación se provee el título del vídeo, la descripción del mismo, y sus etiquetas. En ocasiones alguno de estos campos puede estar vacío. En este caso haz la evaluación con la información que tienes disponible. Si no hay información suficiente para determinar con precision la categoría, simplemente clasificalo como \"Irrelevante\".\n",
    "\n",
    "Título: {}\n",
    "\n",
    "Descripción del vídeo: {}\n",
    "\n",
    "Etiquetas del vídeo: {}\n",
    "\"\"\""
   ]
  },
  {
   "cell_type": "markdown",
   "id": "e648491a-c3dd-41f1-95a8-e335d37ec479",
   "metadata": {},
   "source": [
    "**Creación de un diccionario que contenga la información original dentro de este prompt**"
   ]
  },
  {
   "cell_type": "code",
   "execution_count": null,
   "id": "f2fed570-77c4-4a57-b62f-782bff5346a0",
   "metadata": {},
   "outputs": [],
   "source": [
    "# Creación de un diccionario con un prompt personalizado para cada vídeo\n",
    "dict_prompt_info = {}\n",
    "\n",
    "for video_id, transcripcion in basic_info_dict.items():\n",
    "    prompt_con_transcripcion = prompt_base.format(transcripcion['title'], transcripcion['description'], transcripcion['tags'])\n",
    "    dict_prompt_info[video_id] = prompt_con_transcripcion"
   ]
  },
  {
   "cell_type": "markdown",
   "id": "7dd92fca-50f9-45d3-8eff-c18b434952d6",
   "metadata": {},
   "source": [
    "**Categorización de los vídeos mediante llamadas a la API de Google Gemini**"
   ]
  },
  {
   "cell_type": "code",
   "execution_count": null,
   "id": "d666bf34-9d60-467e-ad94-7d0d22532c69",
   "metadata": {},
   "outputs": [],
   "source": [
    "import time\n",
    "\n",
    "dict_respuestas_llm = {}\n",
    "consulta_contador = 0\n",
    "for video_id, prompt_con_transcripcion in dict_prompt_info.items():\n",
    "    response = model.generate_content(prompt_con_transcripcion)\n",
    "    dict_respuestas_llm[video_id] = response.text\n",
    "    consulta_contador += 1\n",
    "    if consulta_contador % 14 == 0:\n",
    "        print(\"Pausando por un minuto...\")\n",
    "        time.sleep(60)\n",
    "        print(\"Continuando...\")\n",
    "\n",
    "dict_respuestas_llm"
   ]
  },
  {
   "cell_type": "markdown",
   "id": "3ef7b5ba-11ab-497b-9d7b-56bcff99ef09",
   "metadata": {},
   "source": [
    "**Incluimos el resultado de este análisis en el el dataframe anterior para tener un dataframe unificado**"
   ]
  },
  {
   "cell_type": "code",
   "execution_count": null,
   "id": "bd0aa535-df1e-4c7c-a333-6cf8b659798f",
   "metadata": {},
   "outputs": [],
   "source": [
    "classification_df = pd.DataFrame.from_dict(dict_respuestas_llm, orient='index', columns=['Content_Classification'])\n",
    "final_df = results_df.join(classification_df, how='left')\n",
    "final_df"
   ]
  },
  {
   "cell_type": "markdown",
   "id": "a65e71c6-b98e-4456-a8ad-c23e4a456c57",
   "metadata": {},
   "source": [
    "**Exportar resultados a un archivo CSV**"
   ]
  },
  {
   "cell_type": "code",
   "execution_count": null,
   "id": "f3f0ec62-6c3c-41ec-b1e0-37d002c2ea49",
   "metadata": {},
   "outputs": [],
   "source": [
    "import csv\n",
    "# Nombre del archivo CSV\n",
    "archivo_csv = \"Busqueda_\" + search_term + \".csv\"\n",
    "final_df.to_csv(archivo_csv, index=True, encoding='utf-8')"
   ]
  },
  {
   "cell_type": "code",
   "execution_count": null,
   "id": "fb5c3508-b5e6-45dd-be09-90ff390e1aee",
   "metadata": {},
   "outputs": [],
   "source": []
  }
 ],
 "metadata": {
  "kernelspec": {
   "display_name": "Python 3 (ipykernel)",
   "language": "python",
   "name": "python3"
  },
  "language_info": {
   "codemirror_mode": {
    "name": "ipython",
    "version": 3
   },
   "file_extension": ".py",
   "mimetype": "text/x-python",
   "name": "python",
   "nbconvert_exporter": "python",
   "pygments_lexer": "ipython3",
   "version": "3.11.7"
  }
 },
 "nbformat": 4,
 "nbformat_minor": 5
}
